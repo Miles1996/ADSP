{
 "cells": [
  {
   "cell_type": "markdown",
   "metadata": {},
   "source": [
    "Coding challenge part 1"
   ]
  },
  {
   "cell_type": "code",
   "execution_count": 7,
   "metadata": {},
   "outputs": [],
   "source": [
    "# libraries\n",
    "import os\n",
    "from math import floor"
   ]
  },
  {
   "cell_type": "code",
   "execution_count": 8,
   "metadata": {},
   "outputs": [
    {
     "name": "stdout",
     "output_type": "stream",
     "text": [
      "C:\\Users\\miles\\OneDrive\\Documents\\Imperial\\Careers\\Applications\\Untitled Folder\\\\input.txt\n"
     ]
    }
   ],
   "source": [
    "# get file\n",
    "filename = 'input.txt'\n",
    "wd = os.getcwd()\n",
    "path = r'{}\\\\{}'.format(wd, filename)\n",
    "print(path)"
   ]
  },
  {
   "cell_type": "code",
   "execution_count": 9,
   "metadata": {},
   "outputs": [],
   "source": [
    "def get_fuel_req(mass):\n",
    "    return floor(int(mass)/3)-2"
   ]
  },
  {
   "cell_type": "code",
   "execution_count": 11,
   "metadata": {},
   "outputs": [
    {
     "name": "stdout",
     "output_type": "stream",
     "text": [
      "3538016\n"
     ]
    }
   ],
   "source": [
    "with open(path, \"r\") as f:\n",
    "    fuel_sum = 0\n",
    "    for mass in f:\n",
    "        fuel_sum += get_fuel_req(mass)\n",
    "\n",
    "print(fuel_sum)"
   ]
  },
  {
   "cell_type": "markdown",
   "metadata": {},
   "source": [
    "Coding challenge part 2"
   ]
  },
  {
   "cell_type": "code",
   "execution_count": 13,
   "metadata": {},
   "outputs": [],
   "source": [
    "def get_fuel_req(mass):\n",
    "    if floor(int(mass)/3)-2 < 9:\n",
    "        return floor(int(mass)/3)-2\n",
    "    else:\n",
    "        return floor(int(mass)/3)-2 + get_fuel_req(floor(int(mass)/3)-2)"
   ]
  },
  {
   "cell_type": "code",
   "execution_count": 14,
   "metadata": {},
   "outputs": [
    {
     "name": "stdout",
     "output_type": "stream",
     "text": [
      "5304147\n"
     ]
    }
   ],
   "source": [
    "with open(path, \"r\") as f:\n",
    "    fuel_sum = 0\n",
    "    for mass in f:\n",
    "        fuel_sum += get_fuel_req(mass)\n",
    "\n",
    "print(fuel_sum)"
   ]
  },
  {
   "cell_type": "code",
   "execution_count": null,
   "metadata": {},
   "outputs": [],
   "source": []
  }
 ],
 "metadata": {
  "kernelspec": {
   "display_name": "Python 3",
   "language": "python",
   "name": "python3"
  },
  "language_info": {
   "codemirror_mode": {
    "name": "ipython",
    "version": 3
   },
   "file_extension": ".py",
   "mimetype": "text/x-python",
   "name": "python",
   "nbconvert_exporter": "python",
   "pygments_lexer": "ipython3",
   "version": "3.7.3"
  }
 },
 "nbformat": 4,
 "nbformat_minor": 2
}
